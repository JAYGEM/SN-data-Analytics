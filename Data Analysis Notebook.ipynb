{
 "cells": [
  {
   "cell_type": "code",
   "execution_count": 1,
   "metadata": {},
   "outputs": [
    {
     "name": "stdout",
     "output_type": "stream",
     "text": [
      "hello world\n"
     ]
    }
   ],
   "source": [
    "print('hello world')"
   ]
  },
  {
   "cell_type": "markdown",
   "metadata": {},
   "source": [
    "## Task 1:Create a GitHub repository (SN data Analytics)"
   ]
  },
  {
   "cell_type": "code",
   "execution_count": null,
   "metadata": {},
   "outputs": [],
   "source": [
    "1)Firstly,signup for a github account.\n",
    "\n",
    "2)Add a repository name(SN data Analytics).\n",
    "\n",
    "3)Personal GitHub accounts require that projects be public,therefore\n",
    "  Check the Initialize this repository with a README option.\n",
    "    \n",
    "4)Click the green Create repository button."
   ]
  },
  {
   "cell_type": "markdown",
   "metadata": {},
   "source": [
    "## Task 2:Create a folder (First Assignment) inside the repository"
   ]
  },
  {
   "cell_type": "code",
   "execution_count": null,
   "metadata": {},
   "outputs": [],
   "source": [
    "1)Go to the folder inside which you want to create another folder\n",
    "  click on New file.\n",
    "    \n",
    "2)On the text field for the file name, first write the folder name you want to create\n",
    "  Then type /. This creates a folder,You can add more folders similarly.\n",
    "    \n",
    "3)Finally, give the new file a name\n",
    "\n",
    "4)Finally, click Commit new file."
   ]
  },
  {
   "cell_type": "markdown",
   "metadata": {},
   "source": [
    "## Task 3:Push an empty Notebook to the repository"
   ]
  },
  {
   "cell_type": "code",
   "execution_count": null,
   "metadata": {},
   "outputs": [],
   "source": [
    "1)At the Jupyter dashboard, click on New button and select a Python 3 notebook.\n",
    "\n",
    "2)Click on the repository (SN data Analytics)\n",
    "\n",
    "3)Click on the Upload file button\n",
    "\n",
    "4)Drag and drop the sample notebook or click the choose your files link to select the sample notebook.\n",
    "\n",
    "5)We will see any files that we have uploaded at the bottom of the drag and drop area.\n",
    "\n",
    "6)Add a message describing the change we are about to make.\n",
    "\n",
    "7)Type “Data Analysis Notebook” in the subject field.We can either add the same message below in the extended description or leave it blank.\n",
    "\n",
    "8)Click on Commit changes button to complete the uplaod."
   ]
  }
 ],
 "metadata": {
  "kernelspec": {
   "display_name": "Python 3",
   "language": "python",
   "name": "python3"
  },
  "language_info": {
   "codemirror_mode": {
    "name": "ipython",
    "version": 3
   },
   "file_extension": ".py",
   "mimetype": "text/x-python",
   "name": "python",
   "nbconvert_exporter": "python",
   "pygments_lexer": "ipython3",
   "version": "3.8.5"
  }
 },
 "nbformat": 4,
 "nbformat_minor": 4
}
